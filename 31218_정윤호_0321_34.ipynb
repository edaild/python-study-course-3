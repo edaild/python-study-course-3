{
 "cells": [
  {
   "cell_type": "markdown",
   "id": "d49f575b",
   "metadata": {},
   "source": [
    "31218_정윤호_0321_34"
   ]
  },
  {
   "cell_type": "markdown",
   "id": "2c639619",
   "metadata": {},
   "source": [
    "복습\n",
    "- 물건 금액을 입력받고 물건이 오만원 미만일 경우\n",
    "- 배송비 2500원을 더해서 결제금액을 안내하시오.\n",
    "- 변수 : price"
   ]
  },
  {
   "cell_type": "code",
   "execution_count": 18,
   "id": "b3b811de",
   "metadata": {},
   "outputs": [
    {
     "name": "stdout",
     "output_type": "stream",
     "text": [
      "물건 가격 입력 :4999\n",
      "총 결제금액은  7499\n"
     ]
    }
   ],
   "source": [
    "price = int(input('물건 가격 입력 :'))\n",
    "\n",
    "if price < 50000 :\n",
    "    price += 2500\n",
    "print('총 결제금액은 ', price)"
   ]
  },
  {
   "cell_type": "markdown",
   "id": "52f86aef",
   "metadata": {},
   "source": [
    "# 2. if-else 조건문\n",
    "-조건을 충족하지 않응 때 실행하는 명령어\n",
    "```\n",
    "- 만약 조건 A라면,\n",
    "B해라\n",
    "그렇지 안으면,\n",
    "C해라\n"
   ]
  },
  {
   "cell_type": "code",
   "execution_count": 5,
   "id": "d907cf91",
   "metadata": {},
   "outputs": [
    {
     "name": "stdout",
     "output_type": "stream",
     "text": [
      "당신의 나이는 : 21\n",
      "감사합니다. 안녕히 가세요.!!!\n"
     ]
    }
   ],
   "source": [
    "age = int(input('당신의 나이는 : '))\n",
    "if age < 20 :\n",
    "    print('술을 구매할 수 없습니다.!!!')\n",
    "else :\n",
    "    print('감사합니다. 안녕히 가세요.!!!')"
   ]
  },
  {
   "cell_type": "markdown",
   "id": "e1aed628",
   "metadata": {},
   "source": [
    "자동 출석 시스템\n",
    "```\n",
    "출석 혹은 검색을 입력받아 출석이면0을 출력, 출석이 아니면 X를 출력하기\n",
    "입력 안내문 : 춯석 혹은 결석을 입력하세요\n",
    "```"
   ]
  },
  {
   "cell_type": "code",
   "execution_count": 11,
   "id": "17ca6d0c",
   "metadata": {},
   "outputs": [
    {
     "name": "stdout",
     "output_type": "stream",
     "text": [
      "출석 혹은 결석을 입력해 주세요결석\n",
      "X\n"
     ]
    }
   ],
   "source": [
    "check = input('출석 혹은 결석을 입력해 주세요')\n",
    "if check == '결석' :\n",
    "    print('X')\n",
    "else :\n",
    "    print('O')"
   ]
  },
  {
   "cell_type": "markdown",
   "id": "a200ade0",
   "metadata": {},
   "source": [
    "무인 계산기 프로그램\n",
    "```\n",
    "목용탕에서 무인계산기를 설치했다.\n",
    "성인 요금은 15000원, 미성년자 요금은 6000원이다.\n",
    "나이를 입력받아 싱인이면 price(요금을 저장하는 변수) 에 15000을, 미성년자라면 6000을 저장하기 \n",
    "\n",
    "나이가 어떻게 되세요? 25\n",
    "성인은 15000 원 입니다."
   ]
  },
  {
   "cell_type": "code",
   "execution_count": 27,
   "id": "ada656a2",
   "metadata": {},
   "outputs": [
    {
     "name": "stdout",
     "output_type": "stream",
     "text": [
      "나이가 어떻게 되나요?20\n",
      "성인은 15000 원 입니다.\n"
     ]
    }
   ],
   "source": [
    "age = int(input('나이가 어떻게 되나요?'))\n",
    "if age >= 20 :\n",
    "    price = 15000\n",
    "    print('성인은', price,'원 입니다.')\n",
    "else :\n",
    "    price = 5000\n",
    "    print('미성년자은', price,'원 입니다.')\n"
   ]
  },
  {
   "cell_type": "markdown",
   "id": "fec971c0",
   "metadata": {},
   "source": [
    "# else 조건문"
   ]
  },
  {
   "cell_type": "markdown",
   "id": "c69ffcad",
   "metadata": {},
   "source": [
    "최저 주문금액이 있는 새벽배송\n",
    "\n",
    "- 최저 금매금액이 2 만 원\n",
    "- 5 만 원 미만은 배송비 2500원 추가\n",
    "- 5 만 원 이상 이면 무료배송\n",
    "\n",
    "구매금액을 입력받아 조건 별로\n",
    "- '새벽배송이 불가합니다.'\n",
    "- '배송비 2500원이 추가됩니다.'\n",
    "- '무료배송됩니다.'\n",
    "중 하나를 출력하기\n"
   ]
  },
  {
   "cell_type": "code",
   "execution_count": 30,
   "id": "82f89c39",
   "metadata": {},
   "outputs": [
    {
     "name": "stdout",
     "output_type": "stream",
     "text": [
      "구매금액은? 50001\n",
      "무료 배송 됩니다.\n"
     ]
    }
   ],
   "source": [
    "price = int(input('구매금액은? '))\n",
    "\n",
    "if price < 20000 :\n",
    "    print('새벽 배송이 불가능합니다.')\n",
    "elif price < 50000 :\n",
    "    print('배송비 2500원이 추가 됩니다.')\n",
    "else :\n",
    "    print('무료 배송 됩니다.')"
   ]
  },
  {
   "cell_type": "code",
   "execution_count": null,
   "id": "a04ef801",
   "metadata": {},
   "outputs": [],
   "source": []
  }
 ],
 "metadata": {
  "kernelspec": {
   "display_name": "Python 3 (ipykernel)",
   "language": "python",
   "name": "python3"
  },
  "language_info": {
   "codemirror_mode": {
    "name": "ipython",
    "version": 3
   },
   "file_extension": ".py",
   "mimetype": "text/x-python",
   "name": "python",
   "nbconvert_exporter": "python",
   "pygments_lexer": "ipython3",
   "version": "3.9.7"
  }
 },
 "nbformat": 4,
 "nbformat_minor": 5
}
